{
 "cells": [
  {
   "cell_type": "markdown",
   "id": "c2448c85",
   "metadata": {},
   "source": [
    "Як змінювалась структура генерації електроенергії за роками?"
   ]
  },
  {
   "cell_type": "code",
   "execution_count": 1,
   "id": "a5d37ea3",
   "metadata": {},
   "outputs": [],
   "source": [
    "import pandas as pd\n",
    "import altair as alt"
   ]
  },
  {
   "cell_type": "code",
   "execution_count": 2,
   "id": "0f347ad2",
   "metadata": {},
   "outputs": [
    {
     "data": {
      "text/plain": [
       "DataTransformerRegistry.enable('default')"
      ]
     },
     "execution_count": 2,
     "metadata": {},
     "output_type": "execute_result"
    }
   ],
   "source": [
    "alt.data_transformers.disable_max_rows()"
   ]
  },
  {
   "cell_type": "code",
   "execution_count": 3,
   "id": "ad769e30",
   "metadata": {},
   "outputs": [
    {
     "data": {
      "text/html": [
       "<div>\n",
       "<style scoped>\n",
       "    .dataframe tbody tr th:only-of-type {\n",
       "        vertical-align: middle;\n",
       "    }\n",
       "\n",
       "    .dataframe tbody tr th {\n",
       "        vertical-align: top;\n",
       "    }\n",
       "\n",
       "    .dataframe thead th {\n",
       "        text-align: right;\n",
       "    }\n",
       "</style>\n",
       "<table border=\"1\" class=\"dataframe\">\n",
       "  <thead>\n",
       "    <tr style=\"text-align: right;\">\n",
       "      <th></th>\n",
       "      <th>Час/Дата</th>\n",
       "      <th>AES</th>\n",
       "      <th>TEC</th>\n",
       "      <th>VDE</th>\n",
       "      <th>TES</th>\n",
       "      <th>GES</th>\n",
       "      <th>GAES_GEN</th>\n",
       "    </tr>\n",
       "  </thead>\n",
       "  <tbody>\n",
       "    <tr>\n",
       "      <th>0</th>\n",
       "      <td>24-31.12.2020</td>\n",
       "      <td>9235</td>\n",
       "      <td>2039</td>\n",
       "      <td>621</td>\n",
       "      <td>4942</td>\n",
       "      <td>385.0</td>\n",
       "      <td>0</td>\n",
       "    </tr>\n",
       "    <tr>\n",
       "      <th>1</th>\n",
       "      <td>23-31.12.2020</td>\n",
       "      <td>9221</td>\n",
       "      <td>2159</td>\n",
       "      <td>707</td>\n",
       "      <td>5549</td>\n",
       "      <td>470.0</td>\n",
       "      <td>0</td>\n",
       "    </tr>\n",
       "    <tr>\n",
       "      <th>2</th>\n",
       "      <td>22-31.12.2020</td>\n",
       "      <td>9249</td>\n",
       "      <td>2377</td>\n",
       "      <td>709</td>\n",
       "      <td>5906</td>\n",
       "      <td>1000.0</td>\n",
       "      <td>0</td>\n",
       "    </tr>\n",
       "    <tr>\n",
       "      <th>3</th>\n",
       "      <td>21-31.12.2020</td>\n",
       "      <td>9256</td>\n",
       "      <td>2499</td>\n",
       "      <td>702</td>\n",
       "      <td>6329</td>\n",
       "      <td>909.0</td>\n",
       "      <td>322</td>\n",
       "    </tr>\n",
       "    <tr>\n",
       "      <th>4</th>\n",
       "      <td>20-31.12.2020</td>\n",
       "      <td>9213</td>\n",
       "      <td>2521</td>\n",
       "      <td>702</td>\n",
       "      <td>6640</td>\n",
       "      <td>823.0</td>\n",
       "      <td>602</td>\n",
       "    </tr>\n",
       "  </tbody>\n",
       "</table>\n",
       "</div>"
      ],
      "text/plain": [
       "        Час/Дата   AES   TEC  VDE   TES     GES  GAES_GEN\n",
       "0  24-31.12.2020  9235  2039  621  4942   385.0         0\n",
       "1  23-31.12.2020  9221  2159  707  5549   470.0         0\n",
       "2  22-31.12.2020  9249  2377  709  5906  1000.0         0\n",
       "3  21-31.12.2020  9256  2499  702  6329   909.0       322\n",
       "4  20-31.12.2020  9213  2521  702  6640   823.0       602"
      ]
     },
     "execution_count": 3,
     "metadata": {},
     "output_type": "execute_result"
    }
   ],
   "source": [
    "data = pd.read_excel(\"2014-2020.xlsx\")[[\"Час/Дата\", \"AES\", \"TEC\", \"VDE\", \"TES\", \"GES\", \"GAES_GEN\"]]\n",
    "data.head()"
   ]
  },
  {
   "cell_type": "code",
   "execution_count": 4,
   "id": "81b0e8d3",
   "metadata": {},
   "outputs": [],
   "source": [
    "data['year'] = pd.to_datetime(data['Час/Дата'].replace(regex=r'^24-', value='0-'), format='%H-%d.%m.%Y')\n",
    "data = data.drop(columns=[\"Час/Дата\"])"
   ]
  },
  {
   "cell_type": "code",
   "execution_count": 5,
   "id": "6f76134e",
   "metadata": {},
   "outputs": [],
   "source": [
    "yearly_sum = data.groupby(data.year.dt.year).sum().reset_index()"
   ]
  },
  {
   "cell_type": "code",
   "execution_count": 6,
   "id": "07451297",
   "metadata": {},
   "outputs": [
    {
     "data": {
      "text/html": [
       "<div>\n",
       "<style scoped>\n",
       "    .dataframe tbody tr th:only-of-type {\n",
       "        vertical-align: middle;\n",
       "    }\n",
       "\n",
       "    .dataframe tbody tr th {\n",
       "        vertical-align: top;\n",
       "    }\n",
       "\n",
       "    .dataframe thead th {\n",
       "        text-align: right;\n",
       "    }\n",
       "</style>\n",
       "<table border=\"1\" class=\"dataframe\">\n",
       "  <thead>\n",
       "    <tr style=\"text-align: right;\">\n",
       "      <th></th>\n",
       "      <th>year</th>\n",
       "      <th>AES</th>\n",
       "      <th>TEC</th>\n",
       "      <th>VDE</th>\n",
       "      <th>TES</th>\n",
       "      <th>GES</th>\n",
       "      <th>GAES_GEN</th>\n",
       "    </tr>\n",
       "  </thead>\n",
       "  <tbody>\n",
       "    <tr>\n",
       "      <th>0</th>\n",
       "      <td>2014</td>\n",
       "      <td>88204418</td>\n",
       "      <td>14684731</td>\n",
       "      <td>1606386</td>\n",
       "      <td>68605877</td>\n",
       "      <td>7991074.0</td>\n",
       "      <td>839842</td>\n",
       "    </tr>\n",
       "    <tr>\n",
       "      <th>1</th>\n",
       "      <td>2015</td>\n",
       "      <td>87413763</td>\n",
       "      <td>12041074</td>\n",
       "      <td>1234936</td>\n",
       "      <td>50259819</td>\n",
       "      <td>4964478.0</td>\n",
       "      <td>1554857</td>\n",
       "    </tr>\n",
       "    <tr>\n",
       "      <th>2</th>\n",
       "      <td>2016</td>\n",
       "      <td>80762094</td>\n",
       "      <td>12841033</td>\n",
       "      <td>1093190</td>\n",
       "      <td>49879543</td>\n",
       "      <td>7113989.0</td>\n",
       "      <td>1621377</td>\n",
       "    </tr>\n",
       "    <tr>\n",
       "      <th>3</th>\n",
       "      <td>2017</td>\n",
       "      <td>85314258</td>\n",
       "      <td>12208062</td>\n",
       "      <td>1177032</td>\n",
       "      <td>44945303</td>\n",
       "      <td>8531952.0</td>\n",
       "      <td>1575099</td>\n",
       "    </tr>\n",
       "    <tr>\n",
       "      <th>4</th>\n",
       "      <td>2018</td>\n",
       "      <td>84351328</td>\n",
       "      <td>12261018</td>\n",
       "      <td>1863726</td>\n",
       "      <td>47747092</td>\n",
       "      <td>10072767.0</td>\n",
       "      <td>1564867</td>\n",
       "    </tr>\n",
       "  </tbody>\n",
       "</table>\n",
       "</div>"
      ],
      "text/plain": [
       "   year       AES       TEC      VDE       TES         GES  GAES_GEN\n",
       "0  2014  88204418  14684731  1606386  68605877   7991074.0    839842\n",
       "1  2015  87413763  12041074  1234936  50259819   4964478.0   1554857\n",
       "2  2016  80762094  12841033  1093190  49879543   7113989.0   1621377\n",
       "3  2017  85314258  12208062  1177032  44945303   8531952.0   1575099\n",
       "4  2018  84351328  12261018  1863726  47747092  10072767.0   1564867"
      ]
     },
     "execution_count": 6,
     "metadata": {},
     "output_type": "execute_result"
    }
   ],
   "source": [
    "yearly_sum.head()"
   ]
  },
  {
   "cell_type": "code",
   "execution_count": 7,
   "id": "59ce0a5b",
   "metadata": {},
   "outputs": [
    {
     "name": "stdout",
     "output_type": "stream",
     "text": [
      "['Атомна електростанції' 'Теплоелектроцентралі' 'Відновлювана енергетика'\n",
      " 'Теплоелектростанції' 'Гідроелектростанції'\n",
      " 'Гідроакумулюючі електростанції']\n"
     ]
    },
    {
     "data": {
      "text/html": [
       "<div>\n",
       "<style scoped>\n",
       "    .dataframe tbody tr th:only-of-type {\n",
       "        vertical-align: middle;\n",
       "    }\n",
       "\n",
       "    .dataframe tbody tr th {\n",
       "        vertical-align: top;\n",
       "    }\n",
       "\n",
       "    .dataframe thead th {\n",
       "        text-align: right;\n",
       "    }\n",
       "</style>\n",
       "<table border=\"1\" class=\"dataframe\">\n",
       "  <thead>\n",
       "    <tr style=\"text-align: right;\">\n",
       "      <th></th>\n",
       "      <th>year</th>\n",
       "      <th>production</th>\n",
       "      <th>source</th>\n",
       "    </tr>\n",
       "  </thead>\n",
       "  <tbody>\n",
       "    <tr>\n",
       "      <th>0</th>\n",
       "      <td>2014</td>\n",
       "      <td>88204418.0</td>\n",
       "      <td>Атомна електростанції</td>\n",
       "    </tr>\n",
       "    <tr>\n",
       "      <th>1</th>\n",
       "      <td>2015</td>\n",
       "      <td>87413763.0</td>\n",
       "      <td>Атомна електростанції</td>\n",
       "    </tr>\n",
       "    <tr>\n",
       "      <th>2</th>\n",
       "      <td>2016</td>\n",
       "      <td>80762094.0</td>\n",
       "      <td>Атомна електростанції</td>\n",
       "    </tr>\n",
       "    <tr>\n",
       "      <th>3</th>\n",
       "      <td>2017</td>\n",
       "      <td>85314258.0</td>\n",
       "      <td>Атомна електростанції</td>\n",
       "    </tr>\n",
       "    <tr>\n",
       "      <th>4</th>\n",
       "      <td>2018</td>\n",
       "      <td>84351328.0</td>\n",
       "      <td>Атомна електростанції</td>\n",
       "    </tr>\n",
       "  </tbody>\n",
       "</table>\n",
       "</div>"
      ],
      "text/plain": [
       "   year  production                 source\n",
       "0  2014  88204418.0  Атомна електростанції\n",
       "1  2015  87413763.0  Атомна електростанції\n",
       "2  2016  80762094.0  Атомна електростанції\n",
       "3  2017  85314258.0  Атомна електростанції\n",
       "4  2018  84351328.0  Атомна електростанції"
      ]
     },
     "execution_count": 7,
     "metadata": {},
     "output_type": "execute_result"
    }
   ],
   "source": [
    "sources = [\"AES\", \"TEC\", \"VDE\", \"TES\", \"GES\", \"GAES_GEN\"]\n",
    "new_sources = [\"АЕС\", \"ТЕЦ\", \"ВДЕ\", \"ТЕС\", \"ГЕС\", \"ГАЕС\"]\n",
    "new_sources_full = [\"Атомна електростанції\", \"Теплоелектроцентралі\", \"Відновлювана енергетика\", \"Теплоелектростанції\", \"Гідроелектростанції\", \"Гідроакумулюючі електростанції\"]\n",
    "data_by_source = []\n",
    "\n",
    "for i, source in enumerate(sources):\n",
    "    temp_data = yearly_sum[['year', source]].rename(columns={source: \"production\"})\n",
    "    temp_data[\"source\"] = new_sources_full[i]\n",
    "    data_by_source.append(temp_data)\n",
    "    \n",
    "working_data = pd.concat(data_by_source, ignore_index=True)\n",
    "print(working_data[\"source\"].unique())\n",
    "\n",
    "working_data.head()"
   ]
  },
  {
   "cell_type": "code",
   "execution_count": 8,
   "id": "3baeef18",
   "metadata": {},
   "outputs": [
    {
     "name": "stdout",
     "output_type": "stream",
     "text": [
      "Атомна електростанції 83622144.14285715\n",
      "Теплоелектроцентралі 12974901.857142856\n",
      "Відновлювана енергетика 2791686.4285714286\n",
      "Теплоелектростанції 49402749.28571428\n",
      "Гідроелектростанції 7299299.142857143\n",
      "Гідроакумулюючі електростанції 1434399.7142857143\n"
     ]
    }
   ],
   "source": [
    "working_data[\"order_of_source\"] = 0 \n",
    "for i, source in enumerate(new_sources_full):\n",
    "    current_subset = working_data['source'] == source\n",
    "    working_data['order_of_source'] += (current_subset).astype('int32') * working_data[current_subset]['production'].mean()\n",
    "    print(source, working_data[current_subset]['production'].mean())"
   ]
  },
  {
   "cell_type": "code",
   "execution_count": 10,
   "id": "afa767dd",
   "metadata": {},
   "outputs": [],
   "source": [
    "working_data[\"production\"] /= 10**6"
   ]
  },
  {
   "cell_type": "code",
   "execution_count": 11,
   "id": "f4675df5",
   "metadata": {},
   "outputs": [
    {
     "data": {
      "text/html": [
       "\n",
       "<div id=\"altair-viz-1bac7bfbdee64146a093ebee87a3c9a4\"></div>\n",
       "<script type=\"text/javascript\">\n",
       "  (function(spec, embedOpt){\n",
       "    let outputDiv = document.currentScript.previousElementSibling;\n",
       "    if (outputDiv.id !== \"altair-viz-1bac7bfbdee64146a093ebee87a3c9a4\") {\n",
       "      outputDiv = document.getElementById(\"altair-viz-1bac7bfbdee64146a093ebee87a3c9a4\");\n",
       "    }\n",
       "    const paths = {\n",
       "      \"vega\": \"https://cdn.jsdelivr.net/npm//vega@5?noext\",\n",
       "      \"vega-lib\": \"https://cdn.jsdelivr.net/npm//vega-lib?noext\",\n",
       "      \"vega-lite\": \"https://cdn.jsdelivr.net/npm//vega-lite@4.8.1?noext\",\n",
       "      \"vega-embed\": \"https://cdn.jsdelivr.net/npm//vega-embed@6?noext\",\n",
       "    };\n",
       "\n",
       "    function loadScript(lib) {\n",
       "      return new Promise(function(resolve, reject) {\n",
       "        var s = document.createElement('script');\n",
       "        s.src = paths[lib];\n",
       "        s.async = true;\n",
       "        s.onload = () => resolve(paths[lib]);\n",
       "        s.onerror = () => reject(`Error loading script: ${paths[lib]}`);\n",
       "        document.getElementsByTagName(\"head\")[0].appendChild(s);\n",
       "      });\n",
       "    }\n",
       "\n",
       "    function showError(err) {\n",
       "      outputDiv.innerHTML = `<div class=\"error\" style=\"color:red;\">${err}</div>`;\n",
       "      throw err;\n",
       "    }\n",
       "\n",
       "    function displayChart(vegaEmbed) {\n",
       "      vegaEmbed(outputDiv, spec, embedOpt)\n",
       "        .catch(err => showError(`Javascript Error: ${err.message}<br>This usually means there's a typo in your chart specification. See the javascript console for the full traceback.`));\n",
       "    }\n",
       "\n",
       "    if(typeof define === \"function\" && define.amd) {\n",
       "      requirejs.config({paths});\n",
       "      require([\"vega-embed\"], displayChart, err => showError(`Error loading script: ${err.message}`));\n",
       "    } else if (typeof vegaEmbed === \"function\") {\n",
       "      displayChart(vegaEmbed);\n",
       "    } else {\n",
       "      loadScript(\"vega\")\n",
       "        .then(() => loadScript(\"vega-lite\"))\n",
       "        .then(() => loadScript(\"vega-embed\"))\n",
       "        .catch(showError)\n",
       "        .then(() => displayChart(vegaEmbed));\n",
       "    }\n",
       "  })({\"config\": {\"view\": {\"continuousWidth\": 400, \"continuousHeight\": 300}, \"legend\": {\"cornerRadius\": 5, \"fillColor\": \"#EEEEEE\", \"padding\": 5, \"strokeColor\": \"gray\", \"title\": null}, \"title\": {\"fontSize\": 18}}, \"data\": {\"name\": \"data-ae5326e641436e5c9d9d500006485cbf\"}, \"mark\": \"bar\", \"background\": \"#F9F9F9\", \"encoding\": {\"color\": {\"type\": \"nominal\", \"field\": \"source\", \"scale\": {\"scheme\": \"set3\"}}, \"order\": {\"type\": \"nominal\", \"field\": \"order_of_source\", \"sort\": \"descending\"}, \"x\": {\"type\": \"quantitative\", \"aggregate\": \"sum\", \"axis\": {\"title\": \"\\u0412\\u0438\\u0440\\u043e\\u0431\\u043b\\u0435\\u043d\\u043e \\u0435\\u043b\\u0435\\u043a\\u0442\\u0440\\u043e\\u0435\\u043d\\u0435\\u0440\\u0433\\u0456\\u0457 \\u0437\\u0430 \\u0440\\u0456\\u043a \\u0432 \\u0422\\u0412\\u0442\", \"titleFontSize\": 14}, \"field\": \"production\"}, \"y\": {\"type\": \"nominal\", \"axis\": {\"title\": \"\\u0420\\u0456\\u043a\", \"titleFontSize\": 14}, \"field\": \"year\"}}, \"height\": 300, \"padding\": 10, \"title\": {\"text\": \"\\u0413\\u0435\\u043d\\u0435\\u0440\\u0430\\u0446\\u0456\\u044f \\u0435\\u043b\\u0435\\u043a\\u0442\\u0440\\u043e\\u0435\\u043d\\u0435\\u0440\\u0433\\u0456\\u0457 \\u0432 \\u0423\\u043a\\u0440\\u0430\\u0457\\u043d\\u0456\"}, \"width\": 800, \"$schema\": \"https://vega.github.io/schema/vega-lite/v4.8.1.json\", \"datasets\": {\"data-ae5326e641436e5c9d9d500006485cbf\": [{\"year\": 2014, \"production\": 88.204418, \"source\": \"\\u0410\\u0442\\u043e\\u043c\\u043d\\u0430 \\u0435\\u043b\\u0435\\u043a\\u0442\\u0440\\u043e\\u0441\\u0442\\u0430\\u043d\\u0446\\u0456\\u0457\", \"order_of_source\": 83622144.14285715}, {\"year\": 2015, \"production\": 87.413763, \"source\": \"\\u0410\\u0442\\u043e\\u043c\\u043d\\u0430 \\u0435\\u043b\\u0435\\u043a\\u0442\\u0440\\u043e\\u0441\\u0442\\u0430\\u043d\\u0446\\u0456\\u0457\", \"order_of_source\": 83622144.14285715}, {\"year\": 2016, \"production\": 80.762094, \"source\": \"\\u0410\\u0442\\u043e\\u043c\\u043d\\u0430 \\u0435\\u043b\\u0435\\u043a\\u0442\\u0440\\u043e\\u0441\\u0442\\u0430\\u043d\\u0446\\u0456\\u0457\", \"order_of_source\": 83622144.14285715}, {\"year\": 2017, \"production\": 85.314258, \"source\": \"\\u0410\\u0442\\u043e\\u043c\\u043d\\u0430 \\u0435\\u043b\\u0435\\u043a\\u0442\\u0440\\u043e\\u0441\\u0442\\u0430\\u043d\\u0446\\u0456\\u0457\", \"order_of_source\": 83622144.14285715}, {\"year\": 2018, \"production\": 84.351328, \"source\": \"\\u0410\\u0442\\u043e\\u043c\\u043d\\u0430 \\u0435\\u043b\\u0435\\u043a\\u0442\\u0440\\u043e\\u0441\\u0442\\u0430\\u043d\\u0446\\u0456\\u0457\", \"order_of_source\": 83622144.14285715}, {\"year\": 2019, \"production\": 83.098265, \"source\": \"\\u0410\\u0442\\u043e\\u043c\\u043d\\u0430 \\u0435\\u043b\\u0435\\u043a\\u0442\\u0440\\u043e\\u0441\\u0442\\u0430\\u043d\\u0446\\u0456\\u0457\", \"order_of_source\": 83622144.14285715}, {\"year\": 2020, \"production\": 76.210883, \"source\": \"\\u0410\\u0442\\u043e\\u043c\\u043d\\u0430 \\u0435\\u043b\\u0435\\u043a\\u0442\\u0440\\u043e\\u0441\\u0442\\u0430\\u043d\\u0446\\u0456\\u0457\", \"order_of_source\": 83622144.14285715}, {\"year\": 2014, \"production\": 14.684731, \"source\": \"\\u0422\\u0435\\u043f\\u043b\\u043e\\u0435\\u043b\\u0435\\u043a\\u0442\\u0440\\u043e\\u0446\\u0435\\u043d\\u0442\\u0440\\u0430\\u043b\\u0456\", \"order_of_source\": 12974901.857142856}, {\"year\": 2015, \"production\": 12.041074, \"source\": \"\\u0422\\u0435\\u043f\\u043b\\u043e\\u0435\\u043b\\u0435\\u043a\\u0442\\u0440\\u043e\\u0446\\u0435\\u043d\\u0442\\u0440\\u0430\\u043b\\u0456\", \"order_of_source\": 12974901.857142856}, {\"year\": 2016, \"production\": 12.841033, \"source\": \"\\u0422\\u0435\\u043f\\u043b\\u043e\\u0435\\u043b\\u0435\\u043a\\u0442\\u0440\\u043e\\u0446\\u0435\\u043d\\u0442\\u0440\\u0430\\u043b\\u0456\", \"order_of_source\": 12974901.857142856}, {\"year\": 2017, \"production\": 12.208062, \"source\": \"\\u0422\\u0435\\u043f\\u043b\\u043e\\u0435\\u043b\\u0435\\u043a\\u0442\\u0440\\u043e\\u0446\\u0435\\u043d\\u0442\\u0440\\u0430\\u043b\\u0456\", \"order_of_source\": 12974901.857142856}, {\"year\": 2018, \"production\": 12.261018, \"source\": \"\\u0422\\u0435\\u043f\\u043b\\u043e\\u0435\\u043b\\u0435\\u043a\\u0442\\u0440\\u043e\\u0446\\u0435\\u043d\\u0442\\u0440\\u0430\\u043b\\u0456\", \"order_of_source\": 12974901.857142856}, {\"year\": 2019, \"production\": 12.25185, \"source\": \"\\u0422\\u0435\\u043f\\u043b\\u043e\\u0435\\u043b\\u0435\\u043a\\u0442\\u0440\\u043e\\u0446\\u0435\\u043d\\u0442\\u0440\\u0430\\u043b\\u0456\", \"order_of_source\": 12974901.857142856}, {\"year\": 2020, \"production\": 14.536545, \"source\": \"\\u0422\\u0435\\u043f\\u043b\\u043e\\u0435\\u043b\\u0435\\u043a\\u0442\\u0440\\u043e\\u0446\\u0435\\u043d\\u0442\\u0440\\u0430\\u043b\\u0456\", \"order_of_source\": 12974901.857142856}, {\"year\": 2014, \"production\": 1.606386, \"source\": \"\\u0412\\u0456\\u0434\\u043d\\u043e\\u0432\\u043b\\u044e\\u0432\\u0430\\u043d\\u0430 \\u0435\\u043d\\u0435\\u0440\\u0433\\u0435\\u0442\\u0438\\u043a\\u0430\", \"order_of_source\": 2791686.4285714286}, {\"year\": 2015, \"production\": 1.234936, \"source\": \"\\u0412\\u0456\\u0434\\u043d\\u043e\\u0432\\u043b\\u044e\\u0432\\u0430\\u043d\\u0430 \\u0435\\u043d\\u0435\\u0440\\u0433\\u0435\\u0442\\u0438\\u043a\\u0430\", \"order_of_source\": 2791686.4285714286}, {\"year\": 2016, \"production\": 1.09319, \"source\": \"\\u0412\\u0456\\u0434\\u043d\\u043e\\u0432\\u043b\\u044e\\u0432\\u0430\\u043d\\u0430 \\u0435\\u043d\\u0435\\u0440\\u0433\\u0435\\u0442\\u0438\\u043a\\u0430\", \"order_of_source\": 2791686.4285714286}, {\"year\": 2017, \"production\": 1.177032, \"source\": \"\\u0412\\u0456\\u0434\\u043d\\u043e\\u0432\\u043b\\u044e\\u0432\\u0430\\u043d\\u0430 \\u0435\\u043d\\u0435\\u0440\\u0433\\u0435\\u0442\\u0438\\u043a\\u0430\", \"order_of_source\": 2791686.4285714286}, {\"year\": 2018, \"production\": 1.863726, \"source\": \"\\u0412\\u0456\\u0434\\u043d\\u043e\\u0432\\u043b\\u044e\\u0432\\u0430\\u043d\\u0430 \\u0435\\u043d\\u0435\\u0440\\u0433\\u0435\\u0442\\u0438\\u043a\\u0430\", \"order_of_source\": 2791686.4285714286}, {\"year\": 2019, \"production\": 4.441801, \"source\": \"\\u0412\\u0456\\u0434\\u043d\\u043e\\u0432\\u043b\\u044e\\u0432\\u0430\\u043d\\u0430 \\u0435\\u043d\\u0435\\u0440\\u0433\\u0435\\u0442\\u0438\\u043a\\u0430\", \"order_of_source\": 2791686.4285714286}, {\"year\": 2020, \"production\": 8.124734, \"source\": \"\\u0412\\u0456\\u0434\\u043d\\u043e\\u0432\\u043b\\u044e\\u0432\\u0430\\u043d\\u0430 \\u0435\\u043d\\u0435\\u0440\\u0433\\u0435\\u0442\\u0438\\u043a\\u0430\", \"order_of_source\": 2791686.4285714286}, {\"year\": 2014, \"production\": 68.605877, \"source\": \"\\u0422\\u0435\\u043f\\u043b\\u043e\\u0435\\u043b\\u0435\\u043a\\u0442\\u0440\\u043e\\u0441\\u0442\\u0430\\u043d\\u0446\\u0456\\u0457\", \"order_of_source\": 49402749.28571428}, {\"year\": 2015, \"production\": 50.259819, \"source\": \"\\u0422\\u0435\\u043f\\u043b\\u043e\\u0435\\u043b\\u0435\\u043a\\u0442\\u0440\\u043e\\u0441\\u0442\\u0430\\u043d\\u0446\\u0456\\u0457\", \"order_of_source\": 49402749.28571428}, {\"year\": 2016, \"production\": 49.879543, \"source\": \"\\u0422\\u0435\\u043f\\u043b\\u043e\\u0435\\u043b\\u0435\\u043a\\u0442\\u0440\\u043e\\u0441\\u0442\\u0430\\u043d\\u0446\\u0456\\u0457\", \"order_of_source\": 49402749.28571428}, {\"year\": 2017, \"production\": 44.945303, \"source\": \"\\u0422\\u0435\\u043f\\u043b\\u043e\\u0435\\u043b\\u0435\\u043a\\u0442\\u0440\\u043e\\u0441\\u0442\\u0430\\u043d\\u0446\\u0456\\u0457\", \"order_of_source\": 49402749.28571428}, {\"year\": 2018, \"production\": 47.747092, \"source\": \"\\u0422\\u0435\\u043f\\u043b\\u043e\\u0435\\u043b\\u0435\\u043a\\u0442\\u0440\\u043e\\u0441\\u0442\\u0430\\u043d\\u0446\\u0456\\u0457\", \"order_of_source\": 49402749.28571428}, {\"year\": 2019, \"production\": 44.877587, \"source\": \"\\u0422\\u0435\\u043f\\u043b\\u043e\\u0435\\u043b\\u0435\\u043a\\u0442\\u0440\\u043e\\u0441\\u0442\\u0430\\u043d\\u0446\\u0456\\u0457\", \"order_of_source\": 49402749.28571428}, {\"year\": 2020, \"production\": 39.504024, \"source\": \"\\u0422\\u0435\\u043f\\u043b\\u043e\\u0435\\u043b\\u0435\\u043a\\u0442\\u0440\\u043e\\u0441\\u0442\\u0430\\u043d\\u0446\\u0456\\u0457\", \"order_of_source\": 49402749.28571428}, {\"year\": 2014, \"production\": 7.991074, \"source\": \"\\u0413\\u0456\\u0434\\u0440\\u043e\\u0435\\u043b\\u0435\\u043a\\u0442\\u0440\\u043e\\u0441\\u0442\\u0430\\u043d\\u0446\\u0456\\u0457\", \"order_of_source\": 7299299.142857143}, {\"year\": 2015, \"production\": 4.964478, \"source\": \"\\u0413\\u0456\\u0434\\u0440\\u043e\\u0435\\u043b\\u0435\\u043a\\u0442\\u0440\\u043e\\u0441\\u0442\\u0430\\u043d\\u0446\\u0456\\u0457\", \"order_of_source\": 7299299.142857143}, {\"year\": 2016, \"production\": 7.113989, \"source\": \"\\u0413\\u0456\\u0434\\u0440\\u043e\\u0435\\u043b\\u0435\\u043a\\u0442\\u0440\\u043e\\u0441\\u0442\\u0430\\u043d\\u0446\\u0456\\u0457\", \"order_of_source\": 7299299.142857143}, {\"year\": 2017, \"production\": 8.531952, \"source\": \"\\u0413\\u0456\\u0434\\u0440\\u043e\\u0435\\u043b\\u0435\\u043a\\u0442\\u0440\\u043e\\u0441\\u0442\\u0430\\u043d\\u0446\\u0456\\u0457\", \"order_of_source\": 7299299.142857143}, {\"year\": 2018, \"production\": 10.072767, \"source\": \"\\u0413\\u0456\\u0434\\u0440\\u043e\\u0435\\u043b\\u0435\\u043a\\u0442\\u0440\\u043e\\u0441\\u0442\\u0430\\u043d\\u0446\\u0456\\u0457\", \"order_of_source\": 7299299.142857143}, {\"year\": 2019, \"production\": 6.422154, \"source\": \"\\u0413\\u0456\\u0434\\u0440\\u043e\\u0435\\u043b\\u0435\\u043a\\u0442\\u0440\\u043e\\u0441\\u0442\\u0430\\u043d\\u0446\\u0456\\u0457\", \"order_of_source\": 7299299.142857143}, {\"year\": 2020, \"production\": 5.99868, \"source\": \"\\u0413\\u0456\\u0434\\u0440\\u043e\\u0435\\u043b\\u0435\\u043a\\u0442\\u0440\\u043e\\u0441\\u0442\\u0430\\u043d\\u0446\\u0456\\u0457\", \"order_of_source\": 7299299.142857143}, {\"year\": 2014, \"production\": 0.839842, \"source\": \"\\u0413\\u0456\\u0434\\u0440\\u043e\\u0430\\u043a\\u0443\\u043c\\u0443\\u043b\\u044e\\u044e\\u0447\\u0456 \\u0435\\u043b\\u0435\\u043a\\u0442\\u0440\\u043e\\u0441\\u0442\\u0430\\u043d\\u0446\\u0456\\u0457\", \"order_of_source\": 1434399.7142857143}, {\"year\": 2015, \"production\": 1.554857, \"source\": \"\\u0413\\u0456\\u0434\\u0440\\u043e\\u0430\\u043a\\u0443\\u043c\\u0443\\u043b\\u044e\\u044e\\u0447\\u0456 \\u0435\\u043b\\u0435\\u043a\\u0442\\u0440\\u043e\\u0441\\u0442\\u0430\\u043d\\u0446\\u0456\\u0457\", \"order_of_source\": 1434399.7142857143}, {\"year\": 2016, \"production\": 1.621377, \"source\": \"\\u0413\\u0456\\u0434\\u0440\\u043e\\u0430\\u043a\\u0443\\u043c\\u0443\\u043b\\u044e\\u044e\\u0447\\u0456 \\u0435\\u043b\\u0435\\u043a\\u0442\\u0440\\u043e\\u0441\\u0442\\u0430\\u043d\\u0446\\u0456\\u0457\", \"order_of_source\": 1434399.7142857143}, {\"year\": 2017, \"production\": 1.575099, \"source\": \"\\u0413\\u0456\\u0434\\u0440\\u043e\\u0430\\u043a\\u0443\\u043c\\u0443\\u043b\\u044e\\u044e\\u0447\\u0456 \\u0435\\u043b\\u0435\\u043a\\u0442\\u0440\\u043e\\u0441\\u0442\\u0430\\u043d\\u0446\\u0456\\u0457\", \"order_of_source\": 1434399.7142857143}, {\"year\": 2018, \"production\": 1.564867, \"source\": \"\\u0413\\u0456\\u0434\\u0440\\u043e\\u0430\\u043a\\u0443\\u043c\\u0443\\u043b\\u044e\\u044e\\u0447\\u0456 \\u0435\\u043b\\u0435\\u043a\\u0442\\u0440\\u043e\\u0441\\u0442\\u0430\\u043d\\u0446\\u0456\\u0457\", \"order_of_source\": 1434399.7142857143}, {\"year\": 2019, \"production\": 1.323192, \"source\": \"\\u0413\\u0456\\u0434\\u0440\\u043e\\u0430\\u043a\\u0443\\u043c\\u0443\\u043b\\u044e\\u044e\\u0447\\u0456 \\u0435\\u043b\\u0435\\u043a\\u0442\\u0440\\u043e\\u0441\\u0442\\u0430\\u043d\\u0446\\u0456\\u0457\", \"order_of_source\": 1434399.7142857143}, {\"year\": 2020, \"production\": 1.561564, \"source\": \"\\u0413\\u0456\\u0434\\u0440\\u043e\\u0430\\u043a\\u0443\\u043c\\u0443\\u043b\\u044e\\u044e\\u0447\\u0456 \\u0435\\u043b\\u0435\\u043a\\u0442\\u0440\\u043e\\u0441\\u0442\\u0430\\u043d\\u0446\\u0456\\u0457\", \"order_of_source\": 1434399.7142857143}]}}, {\"mode\": \"vega-lite\"});\n",
       "</script>"
      ],
      "text/plain": [
       "alt.Chart(...)"
      ]
     },
     "execution_count": 11,
     "metadata": {},
     "output_type": "execute_result"
    }
   ],
   "source": [
    "alt.Chart(working_data, title={'text': \"Генерація електроенергії в Україні\"}).mark_bar().encode(\n",
    "    x=alt.X('sum(production):Q', axis=alt.Axis(title='Вироблено електроенергії за рік в ТВт', titleFontSize=14)),\n",
    "    y=alt.Y('year:N', axis=alt.Axis(title='Рік', titleFontSize=14)),\n",
    "    color=alt.Color('source:N', scale = alt.Scale(scheme = 'set3')),\n",
    "    order=alt.Order('order_of_source:N', sort=\"descending\")\n",
    ").properties(\n",
    "    width = 800, height = 300, background = '#F9F9F9', padding = 10\n",
    ").configure_title(fontSize=18).configure_legend(\n",
    "    title=None,\n",
    "    strokeColor='gray',\n",
    "    fillColor='#EEEEEE',\n",
    "    padding=5,\n",
    "    cornerRadius=5\n",
    ")"
   ]
  },
  {
   "cell_type": "code",
   "execution_count": null,
   "id": "4b4388ec",
   "metadata": {},
   "outputs": [],
   "source": []
  },
  {
   "cell_type": "code",
   "execution_count": null,
   "id": "411ce436",
   "metadata": {},
   "outputs": [],
   "source": []
  }
 ],
 "metadata": {
  "kernelspec": {
   "display_name": "Python 3 (ipykernel)",
   "language": "python",
   "name": "python3"
  },
  "language_info": {
   "codemirror_mode": {
    "name": "ipython",
    "version": 3
   },
   "file_extension": ".py",
   "mimetype": "text/x-python",
   "name": "python",
   "nbconvert_exporter": "python",
   "pygments_lexer": "ipython3",
   "version": "3.10.0"
  }
 },
 "nbformat": 4,
 "nbformat_minor": 5
}
